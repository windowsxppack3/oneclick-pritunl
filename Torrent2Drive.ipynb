{
  "nbformat": 4,
  "nbformat_minor": 0,
  "metadata": {
    "colab": {
      "provenance": [],
      "include_colab_link": true
    },
    "kernelspec": {
      "name": "python3",
      "display_name": "Python 3"
    },
    "language_info": {
      "name": "python"
    }
  },
  "cells": [
    {
      "cell_type": "markdown",
      "metadata": {
        "id": "view-in-github",
        "colab_type": "text"
      },
      "source": [
        "<a href=\"https://colab.research.google.com/github/windowsxppack3/oneclick-pritunl/blob/master/Torrent2Drive.ipynb\" target=\"_parent\"><img src=\"https://colab.research.google.com/assets/colab-badge.svg\" alt=\"Open In Colab\"/></a>"
      ]
    },
    {
      "cell_type": "code",
      "execution_count": 10,
      "metadata": {
        "colab": {
          "base_uri": "https://localhost:8080/"
        },
        "id": "YOAVXUw533cc",
        "outputId": "e3f9fc14-7085-446d-fddc-4957c631974d"
      },
      "outputs": [
        {
          "output_type": "stream",
          "name": "stdout",
          "text": [
            "Reading package lists... Done\n",
            "Building dependency tree... Done\n",
            "Reading state information... Done\n",
            "aria2 is already the newest version (1.36.0-1).\n",
            "0 upgraded, 0 newly installed, 0 to remove and 35 not upgraded.\n"
          ]
        }
      ],
      "source": [
        "# Install aria2\n",
        "!apt-get install -y aria2"
      ]
    },
    {
      "cell_type": "code",
      "source": [
        "# Create a download folder\n",
        "!mkdir -p /content/downloads\n",
        "\n",
        "# Example magnet link\n",
        "magnet_uri = \"https://sdi-tool.org/SDI_Update.torrent\"\n",
        "\n",
        "# Start download\n",
        "!aria2c --dir=/content/downloads --seed-time=0 \"{magnet_uri}\""
      ],
      "metadata": {
        "colab": {
          "base_uri": "https://localhost:8080/"
        },
        "id": "QhB12Kvh4AEE",
        "outputId": "c948760a-b699-41ce-9238-fe9617cd4de0"
      },
      "execution_count": null,
      "outputs": [
        {
          "output_type": "stream",
          "name": "stdout",
          "text": [
            "\n",
            "06/23 04:27:01 [\u001b[1;32mNOTICE\u001b[0m] Downloading 1 item(s)\n",
            "\u001b[0m\n",
            "06/23 04:27:04 [\u001b[1;32mNOTICE\u001b[0m] Download complete: /content/downloads/SDI_Update.torrent\n",
            "\n",
            "06/23 04:27:04 [\u001b[1;31mERROR\u001b[0m] Exception caught while loading DHT routing table from /root/.cache/aria2/dht.dat\n",
            "Exception: [DHTRoutingTableDeserializer.cc:82] errorCode=1 Failed to load DHT routing table from /root/.cache/aria2/dht.dat\n",
            "\n",
            "06/23 04:27:04 [\u001b[1;32mNOTICE\u001b[0m] IPv4 DHT: listening on UDP port 6920\n",
            "\n",
            "06/23 04:27:04 [\u001b[1;32mNOTICE\u001b[0m] IPv4 BitTorrent: listening on TCP port 6926\n",
            "\n",
            "06/23 04:27:04 [\u001b[1;31mERROR\u001b[0m] IPv6 BitTorrent: failed to bind TCP port 6926\n",
            "Exception: [SocketCore.cc:312] errorCode=1 Failed to bind a socket, cause: Name or service not known\n",
            " *** Download Progress Summary as of Mon Jun 23 04:28:02 2025 *** \n",
            "=\n",
            "[#9616c0 10MiB/45GiB(0%) CN:45 SD:2 DL:0B]\n",
            "FILE: /content/downloads/SDI_RUS/drivers/DP_Videos_AMD_DCH31_25062.7z (371more)\n",
            "-\n",
            "\n",
            " *** Download Progress Summary as of Mon Jun 23 04:29:02 2025 *** \n",
            "=\n",
            "[#9616c0 10MiB/45GiB(0%) CN:2 SD:0 DL:0B]\n",
            "FILE: /content/downloads/SDI_RUS/drivers/DP_Videos_AMD_DCH31_25062.7z (371more)\n",
            "-\n",
            "\n",
            "\u001b[0m"
          ]
        }
      ]
    },
    {
      "cell_type": "code",
      "source": [
        "from google.colab import drive\n",
        "import shutil\n",
        "\n",
        "# Mount Google Drive\n",
        "drive.mount('/content/drive')\n",
        "\n",
        "# Copy downloaded files to Drive\n",
        "shutil.copytree('/content/downloads', '/content/drive/MyDrive/TorrentDownloads', dirs_exist_ok=True)"
      ],
      "metadata": {
        "id": "Yv_rN6CK4utA"
      },
      "execution_count": null,
      "outputs": []
    }
  ]
}